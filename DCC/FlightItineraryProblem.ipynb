{
 "cells": [
  {
   "cell_type": "markdown",
   "metadata": {},
   "source": [
    "The flight itinerary problem is as follows:\n",
    "\n",
    "Given an unordered list of flights taken by someone, each represented as (origin, destination) pairs, and a starting airport, compute the person's itinerary. If no such itinerary exists, return null. All flights must be used in the itinerary.\n",
    "\n",
    "For example, given the following list of flights:\n",
    "\n",
    "HNL ➔ AKL\n",
    "YUL ➔ ORD\n",
    "ORD ➔ SFO\n",
    "SFO ➔ HNL\n",
    "and starting airport YUL, you should return YUL ➔ ORD ➔ SFO ➔ HNL ➔ AKL. (This also happens to be the actual itinerary for the trip I'm about to take.)\n",
    "\n",
    "You should take some time to try to solve it on your own! Notice that a greedy solution won't work, since it's possible to have a cycle in the graph.\n",
    "\n",
    "Let's again describe the brute force solution to this problem, which is to try every permutation of flights and verify that it's a valid itinerary. That would be O(n!). Now let's ask ourselves if we can improve this with backtracking.\n",
    "\n",
    "Can we construct a partial solution?\n",
    "Yes, we can build an (incomplete) itinerary and extend it by adding more flights to the end.\n",
    "\n",
    "Can we verify if the partial solution is invalid?\n",
    "Yes, we can check a solution is invalid if 1) there are no flights leaving from our last destination and 2) there are still flights remaining that can be taken. Since we must use all flights, this means we're at a dead end.\n",
    "\n",
    "Can we verify if the solution is complete?\n",
    "Yes, we can check if a solution is complete if our itinerary uses all the flights.\n",
    "\n",
    "Let's use this to construct our solution:"
   ]
  },
  {
   "cell_type": "code",
   "execution_count": 1,
   "metadata": {},
   "outputs": [],
   "source": [
    "def get_itinerary(flights, current_itinerary):\n",
    "    # If we've used up all the flights, we're done\n",
    "    if not flights:\n",
    "        return current_itinerary\n",
    "    last_stop = current_itinerary[-1]\n",
    "    for i, (origin, destination) in enumerate(flights):\n",
    "        # Make a copy of flights without the current one to mark it as used\n",
    "        flights_minus_current = flights[:i] + flights[i + 1:]\n",
    "        current_itinerary.append(destination)\n",
    "        if origin == last_stop:\n",
    "            return get_itinerary(flights_minus_current, current_itinerary)\n",
    "        current_itinerary.pop()\n",
    "    return None"
   ]
  },
  {
   "cell_type": "code",
   "execution_count": null,
   "metadata": {},
   "outputs": [],
   "source": []
  }
 ],
 "metadata": {
  "kernelspec": {
   "display_name": "Python 3",
   "language": "python",
   "name": "python3"
  },
  "language_info": {
   "codemirror_mode": {
    "name": "ipython",
    "version": 3
   },
   "file_extension": ".py",
   "mimetype": "text/x-python",
   "name": "python",
   "nbconvert_exporter": "python",
   "pygments_lexer": "ipython3",
   "version": "3.7.0"
  }
 },
 "nbformat": 4,
 "nbformat_minor": 2
}

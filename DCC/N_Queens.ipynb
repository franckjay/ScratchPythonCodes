{
 "cells": [
  {
   "cell_type": "markdown",
   "metadata": {},
   "source": [
    "Today I'd like to give you some tips on how to solve backtracking questions. Backtracking is an effective technique for solving algorithmic problems. In backtracking, we search depth-first for solutions, backtracking to the last valid path as soon as we hit a dead end.\n",
    "\n",
    "Backtracking reduces the search space since we no longer have to follow down any paths we know are invalid. This is called pruning. We must be able to test partial solutions: for example, we can't find a global optimum using backtracking, since we have no idea if the solution we're currently on can lead to it or not. But we can, for example, solve Sudoku using backtracking. We can know immediately if our solution so far is invalid by testing if two of the same number appear in the same row, column, or square.\n",
    "\n",
    "Let's go through several examples of problems that can be nicely solved with backtracking to drill this concept down.\n",
    "\n",
    "1. The N queens puzzle\n",
    "The N queens puzzle is the classic backtracking problem. The question is this:\n",
    "\n",
    "You have an N by N board. Write a function that returns the number of possible arrangements of the board where N queens can be placed on the board without threatening each other, i.e. no two queens share the same row, column, or diagonal.\n",
    "\n",
    "Before continuing, you should take some time to try to solve it on your own!\n",
    "\n",
    "First off, let's describe the brute force solution to this problem, which means trying every single combination of N queens in each of N * N spots. That's n2 choose n, which is painfully slow. We can immediately improve the runtime of this algorithm by noticing that there's no point in ever placing two queens on the same row (or column), so we really only need to have one queen per row. Now, using brute force, we need to iterate over each row and over each spot on each row. Since we have N rows and N columns, our runtime will be O(NN). That's still hella slow, though.\n",
    "\n",
    "It's helpful to ask ourselves three questions to determine whether we can apply backtracking to a problem.\n",
    "\n",
    "Can we construct a partial solution?\n",
    "Yes, we can tentatively place queens on the board.\n",
    "\n",
    "Can we verify if the partial solution is invalid?\n",
    "Yes, we can check a solution is invalid if two queens threaten each other. To speed this up, we can assume that all queens already placed so far do not threaten each other, so we only need to check if the last queen we added attacks any other queen.\n",
    "\n",
    "Can we verify if the solution is complete?\n",
    "Yes, we know a solution is complete if all N queens have been placed.\n",
    "\n",
    "Now that we are confident that we can use backtracking, let's apply it to this problem. We'll loop through the first row and try placing a queen in column 0..N, and then the second, and so on up until N. What differs here from brute force is that we'll be adding the queens incrementally instead of all at once.\n",
    "\n",
    "We'll create an is_valid function that will check the board on each incremental addition. is_valid will look at the last queen placed and see if any other queen can threaten it. If so, then we prune the branch since there's no point pursuing it. Otherwise, we'll recursively call ourselves with the new incremental solution. We only stop once we hit the base case: we've placed all queens on the board already.\n",
    "\n",
    "We can represent our board as just a 1D array of integers from 1..N, where the value at the index i that represents the column the queen on row i is on. Since we're working incrementally, we don't even need to have the whole board initialized. We can just append and pop as we go down the stack.\n",
    "\n",
    "Here's the actual code in Python:"
   ]
  },
  {
   "cell_type": "code",
   "execution_count": 4,
   "metadata": {},
   "outputs": [
    {
     "name": "stdout",
     "output_type": "stream",
     "text": [
      "We found a valid board\n",
      "[0, 2]\n",
      "4\n",
      "We found a valid board\n",
      "[0, 3, 1]\n",
      "4\n",
      "We found a valid board\n",
      "[0, 3]\n",
      "4\n",
      "We found a valid board\n",
      "[0]\n",
      "4\n",
      "We found a valid board\n",
      "[1, 3, 0, 2]\n",
      "4\n",
      "We found a valid board\n",
      "[1, 3, 0]\n",
      "4\n",
      "We found a valid board\n",
      "[1, 3]\n",
      "4\n",
      "We found a valid board\n",
      "[1]\n",
      "4\n",
      "We found a valid board\n",
      "[2, 0, 3, 1]\n",
      "4\n",
      "We found a valid board\n",
      "[2, 0, 3]\n",
      "4\n",
      "We found a valid board\n",
      "[2, 0]\n",
      "4\n",
      "We found a valid board\n",
      "[2]\n",
      "4\n",
      "We found a valid board\n",
      "[3, 0, 2]\n",
      "4\n",
      "We found a valid board\n",
      "[3, 0]\n",
      "4\n",
      "We found a valid board\n",
      "[3, 1]\n",
      "4\n",
      "We found a valid board\n",
      "[3]\n",
      "4\n"
     ]
    },
    {
     "data": {
      "text/plain": [
       "2"
      ]
     },
     "execution_count": 4,
     "metadata": {},
     "output_type": "execute_result"
    }
   ],
   "source": [
    "def n_queens(n, board=[]):\n",
    "    if n == len(board):\n",
    "        return 1\n",
    "\n",
    "    count = 0\n",
    "    for col in range(n):\n",
    "        board.append(col)\n",
    "        print (board)\n",
    "        if is_valid(board):\n",
    "            count += n_queens(n, board)\n",
    "            print (\"We found a valid board\")\n",
    "            print (board)\n",
    "            print (count)\n",
    "        board.pop()\n",
    "    return count\n",
    "\n",
    "def is_valid(board):\n",
    "    current_queen_row, current_queen_col = len(board) - 1, board[-1]\n",
    "    # Check if any queens can attack the last queen.\n",
    "    for row, col in enumerate(board[:-1]):\n",
    "        diff = abs(current_queen_col - col)\n",
    "        if diff == 0 or diff == current_queen_row - row:\n",
    "            return False\n",
    "    return True\n",
    "\n",
    "n_queens(4)"
   ]
  },
  {
   "cell_type": "code",
   "execution_count": 2,
   "metadata": {},
   "outputs": [
    {
     "name": "stdout",
     "output_type": "stream",
     "text": [
      "1\n",
      "1\n",
      "0\n",
      "0\n",
      "2\n",
      "10\n",
      "4\n",
      "40\n",
      "92\n",
      "352\n"
     ]
    }
   ],
   "source": [
    "for i in range(10):\n",
    "    print(n_queens(i))"
   ]
  },
  {
   "cell_type": "code",
   "execution_count": null,
   "metadata": {},
   "outputs": [],
   "source": []
  }
 ],
 "metadata": {
  "kernelspec": {
   "display_name": "Python 3",
   "language": "python",
   "name": "python3"
  },
  "language_info": {
   "codemirror_mode": {
    "name": "ipython",
    "version": 3
   },
   "file_extension": ".py",
   "mimetype": "text/x-python",
   "name": "python",
   "nbconvert_exporter": "python",
   "pygments_lexer": "ipython3",
   "version": "3.7.0"
  }
 },
 "nbformat": 4,
 "nbformat_minor": 2
}

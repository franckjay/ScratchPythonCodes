{
 "cells": [
  {
   "cell_type": "markdown",
   "metadata": {},
   "source": [
    "Write a function kth_to_last_node() that takes an integer kk and the head_node of a singly-linked list, and returns the kkth to last node in the list."
   ]
  },
  {
   "cell_type": "markdown",
   "metadata": {},
   "source": [
    "First approach: use the length of the list.\n",
    "\n",
    "walk down the whole list, counting nodes, to get the total list_length.\n",
    "subtract kk from the list_length to get the distance from the head node to the target node (the kth to last node).\n",
    "walk that distance from the head to arrive at the target node."
   ]
  },
  {
   "cell_type": "code",
   "execution_count": 2,
   "metadata": {},
   "outputs": [],
   "source": [
    "def kth_to_last_node(k, head):\n",
    "    if k < 1:\n",
    "        raise ValueError(\n",
    "            'Impossible to find less than first to last node: %s' % k\n",
    "        )\n",
    "\n",
    "    # Step 1: get the length of the list\n",
    "    # Start at 1, not 0\n",
    "    # else we'd fail to count the head node!\n",
    "    list_length = 1\n",
    "    current_node = head\n",
    "\n",
    "    # Traverse the whole list,\n",
    "    # counting all the nodes\n",
    "    while current_node.next:\n",
    "        current_node = current_node.next\n",
    "        list_length += 1\n",
    "\n",
    "    # If k is greater than the length of the list, there can't\n",
    "    # be a kth-to-last node, so we'll return an error!\n",
    "    if k > list_length:\n",
    "        raise ValueError(\n",
    "            'k is larger than the length of the linked list: %s' % k\n",
    "        )\n",
    "\n",
    "    # Step 2: walk to the target node\n",
    "    # Calculate how far to go, from the head,\n",
    "    # to get to the kth to last node\n",
    "    how_far_to_go = list_length - k\n",
    "    current_node = head\n",
    "    for i in xrange(how_far_to_go):\n",
    "        current_node = current_node.next\n",
    "\n",
    "    return current_node"
   ]
  },
  {
   "cell_type": "markdown",
   "metadata": {},
   "source": [
    "Second approach: maintain a kk-wide \"stick\" in one walk down the list.\n",
    "\n",
    "Walk one pointer kk nodes from the head. Call it right_node.\n",
    "Put another pointer at the head. Call it left_node.\n",
    "Walk both pointers, at the same speed, towards the tail. This keeps a distance of kk between them.\n",
    "When right_node hits the tail, left_node is on the target (since it's kk nodes from the end of the list)."
   ]
  },
  {
   "cell_type": "code",
   "execution_count": 1,
   "metadata": {},
   "outputs": [],
   "source": [
    "def kth_to_last_node(k, head):\n",
    "    if k < 1:\n",
    "        raise ValueError(\n",
    "            'Impossible to find less than first to last node: %s' % k\n",
    "        )\n",
    "\n",
    "    left_node  = head\n",
    "    right_node = head\n",
    "\n",
    "    # Move right_node to the kth node\n",
    "    for _ in xrange(k - 1):\n",
    "        # But along the way, if a right_node doesn't have a next,\n",
    "        # then k is greater than the length of the list and there\n",
    "        # can't be a kth-to-last node! we'll raise an error\n",
    "        if not right_node.next:\n",
    "            raise ValueError(\n",
    "                'k is larger than the length of the linked list: %s' % k\n",
    "            )\n",
    "        right_node = right_node.next\n",
    "\n",
    "    # Starting with left_node on the head,\n",
    "    # move left_node and right_node down the list,\n",
    "    # maintaining a distance of k between them,\n",
    "    # until right_node hits the end of the list\n",
    "    while right_node.next:\n",
    "        left_node  = left_node.next\n",
    "        right_node = right_node.next\n",
    "\n",
    "    # Since left_node is k nodes behind right_node,\n",
    "    # left_node is now the kth to last node!\n",
    "    return left_node"
   ]
  },
  {
   "cell_type": "code",
   "execution_count": null,
   "metadata": {},
   "outputs": [],
   "source": []
  }
 ],
 "metadata": {
  "kernelspec": {
   "display_name": "Python 3",
   "language": "python",
   "name": "python3"
  },
  "language_info": {
   "codemirror_mode": {
    "name": "ipython",
    "version": 3
   },
   "file_extension": ".py",
   "mimetype": "text/x-python",
   "name": "python",
   "nbconvert_exporter": "python",
   "pygments_lexer": "ipython3",
   "version": "3.7.0"
  }
 },
 "nbformat": 4,
 "nbformat_minor": 2
}

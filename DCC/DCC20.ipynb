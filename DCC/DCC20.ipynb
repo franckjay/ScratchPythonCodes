{
 "cells": [
  {
   "cell_type": "markdown",
   "metadata": {},
   "source": [
    "Given two linked lists, A and B, identify the nodes that are. The space complexity should be constant. Time complexity is M+N \n",
    "which are the lengths of the two lists."
   ]
  },
  {
   "cell_type": "code",
   "execution_count": 21,
   "metadata": {},
   "outputs": [],
   "source": [
    "class Element(object):\n",
    "    def __init__(self,value):\n",
    "        self.value=value\n",
    "        self.next=None\n",
    "        self.visited=False\n",
    "        \n",
    "class LinkedList(object):\n",
    "    def __init__(self,head=None):\n",
    "        self.head=head\n",
    "        \n",
    "    def findSharedElement(self):\n",
    "        #Traverse the nodes\n",
    "        current=self.head\n",
    "        while current:\n",
    "            #print (current.value)\n",
    "            if current.visited==False:\n",
    "                current.visited=True\n",
    "            else:\n",
    "                print (\"Found copycat node: \",current.value)\n",
    "                return True\n",
    "            current=current.next"
   ]
  },
  {
   "cell_type": "code",
   "execution_count": 22,
   "metadata": {},
   "outputs": [],
   "source": [
    "#3,7,8,10\n",
    "e1=Element(3)\n",
    "LL1=LinkedList(e1)\n",
    "e2=Element(7)\n",
    "e3=Element(8)\n",
    "e4=Element(100)\n",
    "\n",
    "e1.next=e2\n",
    "e2.next=e3\n",
    "e3.next=e4"
   ]
  },
  {
   "cell_type": "code",
   "execution_count": 23,
   "metadata": {},
   "outputs": [],
   "source": [
    "#99,1,8,10\n",
    "c1=Element(99)\n",
    "LL2=LinkedList(c1)\n",
    "c2=Element(1)\n",
    "c4=Element(10)\n",
    "\n",
    "c1.next=c2\n",
    "c2.next=e3\n",
    "c3.next=c4"
   ]
  },
  {
   "cell_type": "code",
   "execution_count": 24,
   "metadata": {},
   "outputs": [
    {
     "name": "stdout",
     "output_type": "stream",
     "text": [
      "3\n",
      "7\n",
      "8\n",
      "100\n"
     ]
    }
   ],
   "source": [
    "LL1.findSharedElement()"
   ]
  },
  {
   "cell_type": "code",
   "execution_count": 25,
   "metadata": {},
   "outputs": [
    {
     "name": "stdout",
     "output_type": "stream",
     "text": [
      "99\n",
      "1\n",
      "8\n",
      "Found copycat node:  8\n"
     ]
    },
    {
     "data": {
      "text/plain": [
       "True"
      ]
     },
     "execution_count": 25,
     "metadata": {},
     "output_type": "execute_result"
    }
   ],
   "source": [
    "LL2.findSharedElement()"
   ]
  },
  {
   "cell_type": "code",
   "execution_count": null,
   "metadata": {},
   "outputs": [],
   "source": []
  }
 ],
 "metadata": {
  "kernelspec": {
   "display_name": "Python 3",
   "language": "python",
   "name": "python3"
  },
  "language_info": {
   "codemirror_mode": {
    "name": "ipython",
    "version": 3
   },
   "file_extension": ".py",
   "mimetype": "text/x-python",
   "name": "python",
   "nbconvert_exporter": "python",
   "pygments_lexer": "ipython3",
   "version": "3.7.0"
  }
 },
 "nbformat": 4,
 "nbformat_minor": 2
}
